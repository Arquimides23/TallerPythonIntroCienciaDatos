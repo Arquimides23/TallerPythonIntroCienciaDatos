{
 "cells": [
  {
   "cell_type": "markdown",
   "metadata": {
    "colab_type": "text",
    "id": "view-in-github"
   },
   "source": [
    "<a href=\"https://colab.research.google.com/github/htapia/TallerPythonIntroCienciaDatos/blob/master/notebooks/Index.ipynb\" target=\"_parent\"><img src=\"https://colab.research.google.com/assets/colab-badge.svg\" alt=\"Open In Colab\"/></a>"
   ]
  },
  {
   "cell_type": "markdown",
   "metadata": {
    "colab_type": "text",
    "id": "tBlFttIbtfbw"
   },
   "source": [
    "![Header](https://github.com/htapia/TallerPythonIntroCienciaDatos/blob/master/notebooks/figures/header.png?raw=1)\n",
    "# Taller de Python Data Challenge Industrial\n",
    "Basado en el libro Python Data Science Handbook por *Jake VanderPlas*\n",
    "\n",
    "<!-- ![Book Cover](figures/PDSH-cover.png) -->"
   ]
  },
  {
   "cell_type": "markdown",
   "metadata": {
    "colab_type": "text",
    "id": "s_ljDhXitfb5"
   },
   "source": [
    "Las siguientes libretas de Jupyter contienen el material para el Taller de Python del evento [Data Challenge Industrial 4.0](www.lania.mx/dci). El material está basado en el libro [Python Data Science Handbook](http://shop.oreilly.com/product/0636920034919.do) de Jake VanderPlas; el contenido **original** está disponible [en GitHub](https://github.com/jakevdp/PythonDataScienceHandbook).\n"
   ]
  },
  {
   "cell_type": "markdown",
   "metadata": {
    "colab_type": "text",
    "id": "cXsDhlTDtfb7"
   },
   "source": [
    "## Contenido\n",
    "\n",
    "### Agenda tentativa\n",
    "\n",
    "Tema | Dia | Horario\n",
    "--- | --- | ---\n",
    "Introduccion a NumPy | 10/26 | 9:00 - 10:30\n",
    "Manipulacion de datos con Pandas | 10/26 | 10:30 - 12:00\n",
    "Manipulacion de datos con Pandas | 11/26 | 8:30 - 9:30\n",
    "Aprendizaje Automatico | 11/26 | 9:30 - 11:30\n"
   ]
  },
  {
   "cell_type": "markdown",
   "metadata": {},
   "source": [
    "### [Prefacio](00.00-Preface.ipynb)\n",
    "\n",
    "### [1. Introduccion a NumPy](01.00-Introduction-to-NumPy.ipynb)\n",
    "- [Tipos de datos en Python](01.01-Understanding-Data-Types.ipynb)\n",
    "- [Basicos de NumPy: arreglos](01.02-The-Basics-Of-NumPy-Arrays.ipynb)\n",
    "- [Calculos sobre arreglos de NumPy 1](01.03-Computation-on-arrays-ufuncs.ipynb)\n",
    "- [Agregaciones: Min, Max, etc.](01.04-Computation-on-arrays-aggregates.ipynb)\n",
    "- [Calculos sobre arreglos 2: Broadcasting](01.05-Computation-on-arrays-broadcasting.ipynb)\n",
    "- [Comparaciones, mascaras y logica booleana](01.06-Boolean-Arrays-and-Masks.ipynb)\n",
    "- [Mas indices](01.07-Fancy-Indexing.ipynb)\n",
    "- [Ordenando elementos de un arreglo](01.08-Sorting.ipynb)\n",
    "- [Datos estructurados en NumPy](01.09-Structured-Data-NumPy.ipynb)\n",
    "\n",
    "### [2. Manipulacion de datos con Pandas](02.00-Introduction-to-Pandas.ipynb)\n",
    "- [Introduccion a los objetos de Pandas](02.01-Introducing-Pandas-Objects.ipynb)\n",
    "- [Indices y seleccion de datos](02.02-Data-Indexing-and-Selection.ipynb)\n",
    "- [Operaciones sobre datos en Pandas](02.03-Operations-in-Pandas.ipynb)\n",
    "- [Datos faltantes](02.04-Missing-Values.ipynb)\n",
    "- [Indices jerarquicos](02.05-Hierarchical-Indexing.ipynb)\n",
    "- [Combinando datos: concatenacion y anexion](02.06-Concat-And-Append.ipynb)\n",
    "- [Combinando datos: *Merge* y *Join*](02.07-Merge-and-Join.ipynb)\n",
    "- [Agregaciones y agrupaciones](02.08-Aggregation-and-Grouping.ipynb)\n",
    "- [*Pivot Tables*](02.09-Pivot-Tables.ipynb)\n",
    "- [Operaciones sobre texto](02.10-Working-With-Strings.ipynb)\n",
    "- [Series de tiempo](02.11-Working-with-Time-Series.ipynb)\n",
    "- [Pandas de alto rendimiento: `eval()` y `query()`](02.12-Performance-Eval-and-Query.ipynb)\n",
    "- [Recursos adicionales](02.13-Further-Resources.ipynb)\n",
    "\n",
    "### [3. Machine Learning](03.00-Machine-Learning.ipynb)\n",
    "- [¿Qué es Machine Learning?](03.01-What-Is-Machine-Learning.ipynb)\n",
    "- [Introduciendo Scikit-Learn](03.02-Introducing-Scikit-Learn.ipynb)\n",
    "- [Hiperparametros y validacion de modelos](03.03-Hyperparameters-and-Model-Validation.ipynb)\n",
    "- [Ingenieria de atributos](03.04-Feature-Engineering.ipynb)\n",
    "- [Clasificacion usando Naive Bayes](03.05-Naive-Bayes.ipynb)\n",
    "- [Regresion Lineal](03.06-Linear-Regression.ipynb)\n",
    "- [Arboles de decision y Random Forests](03.07-Random-Forests.ipynb)\n",
    "- [Analisis de componentes principales](03.08-Principal-Component-Analysis.ipynb)\n",
    "- [Acumulacion por k-Means](03.09-K-Means.ipynb)\n",
    "- [Aplicacion: DCI](03.10-Image-Features.ipynb)\n",
    "- [Recursos adicionales Machine Learning](03.11-Learning-More.ipynb)"
   ]
  }
 ],
 "metadata": {
  "anaconda-cloud": {},
  "colab": {
   "include_colab_link": true,
   "name": "Index.ipynb",
   "provenance": []
  },
  "kernelspec": {
   "display_name": "Python 2",
   "language": "python",
   "name": "python2"
  },
  "language_info": {
   "codemirror_mode": {
    "name": "ipython",
    "version": 2
   },
   "file_extension": ".py",
   "mimetype": "text/x-python",
   "name": "python",
   "nbconvert_exporter": "python",
   "pygments_lexer": "ipython2",
   "version": "2.7.15"
  }
 },
 "nbformat": 4,
 "nbformat_minor": 1
}
