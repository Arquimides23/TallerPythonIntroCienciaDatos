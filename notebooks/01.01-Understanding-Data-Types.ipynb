{
  "nbformat": 4,
  "nbformat_minor": 0,
  "metadata": {
    "anaconda-cloud": {},
    "kernelspec": {
      "display_name": "Python 3",
      "language": "python",
      "name": "python2"
    },
    "language_info": {
      "codemirror_mode": {
        "name": "ipython",
        "version": 2
      },
      "file_extension": ".py",
      "mimetype": "text/x-python",
      "name": "python",
      "nbconvert_exporter": "python",
      "pygments_lexer": "ipython2",
      "version": "2.7.15"
    },
    "colab": {
      "name": "01.01-Understanding-Data-Types.ipynb",
      "provenance": [],
      "include_colab_link": true
    }
  },
  "cells": [
    {
      "cell_type": "markdown",
      "metadata": {
        "id": "view-in-github",
        "colab_type": "text"
      },
      "source": [
        "<a href=\"https://colab.research.google.com/github/Arquimides23/TallerPythonIntroCienciaDatos/blob/icd_fffuv/notebooks/01.01-Understanding-Data-Types.ipynb\" target=\"_parent\"><img src=\"https://colab.research.google.com/assets/colab-badge.svg\" alt=\"Open In Colab\"/></a>"
      ]
    },
    {
      "cell_type": "markdown",
      "metadata": {
        "id": "kHi43mv1faZI",
        "colab_type": "text"
      },
      "source": [
        "<!--BOOK_INFORMATION-->\n",
        "<img align=\"left\" style=\"padding-right:10px;\" src=\"https://github.com/Arquimides23/TallerPythonIntroCienciaDatos/blob/icd_fffuv/notebooks/figures/header_small.png?raw=1\">\n",
        "\n",
        "*Esta libreta contiene material del Taller de Python que se lleva a cabo como parte del \n",
        "evento [Data Challenge Industrial 4.0](www.lania.mx/dci). El contenido ha sido adaptado \n",
        "por HTM y GED a partir del libro [Python Data Science Handbook](http://shop.oreilly.com/product/0636920034919.do) \n",
        "de Jake VanderPlas y se mantiene la licencia sobre el texto, \n",
        "[CC-BY-NC-ND license](https://creativecommons.org/licenses/by-nc-nd/3.0/us/legalcode), \n",
        "y sobre el codigo [MIT license](https://opensource.org/licenses/MIT).*"
      ]
    },
    {
      "cell_type": "markdown",
      "metadata": {
        "id": "IKfTyCNYfaZK",
        "colab_type": "text"
      },
      "source": [
        "<!--NAVIGATION-->\n",
        "< [Introducción a NumPy](01.00-Introduction-to-NumPy.ipynb) | [Contenido](Index.ipynb) | [Basicos de NumPy: arreglos](01.02-The-Basics-Of-NumPy-Arrays.ipynb) >\n",
        "\n",
        "<a href=\"https://colab.research.google.com/github/htapia/TallerPythonIntroCienciaDatos/blob/master/notebooks/01.01-Understanding-Data-Types.ipynb\"><img align=\"left\" src=\"https://colab.research.google.com/assets/colab-badge.svg\" alt=\"Open in Colab\" title=\"Open and Execute in Google Colaboratory\"></a>\n"
      ]
    },
    {
      "cell_type": "markdown",
      "metadata": {
        "id": "wbSxJD5OfaZL",
        "colab_type": "text"
      },
      "source": [
        "# Tipos de Datos en Python"
      ]
    },
    {
      "cell_type": "markdown",
      "metadata": {
        "id": "vqDQ8JoafaZM",
        "colab_type": "text"
      },
      "source": [
        "* Lenguajes de tipado estático como C o Java requieren que cada vriable sea declarada explicitamente\n",
        "* Python en un lenguaje de tipado dinámico y no requiere ésta especificación\n",
        "Por ejemplo en C especificamos una operación como sigue:\n",
        "\n",
        "```C\n",
        "/* codigo en C */\n",
        "int result = 0;\n",
        "for(int i=0; i<100; i++){\n",
        "    result += i;\n",
        "}\n",
        "```\n",
        "\n",
        "En Python la operación equivalente puede escribirse de la siguiente forma:\n",
        "\n",
        "```python\n",
        "# codigo en Python\n",
        "result = 0\n",
        "for i in range(100):\n",
        "    result += i\n",
        "```\n",
        "\n",
        "La diferencia principal es \n",
        "* en C el tipo de cada variable debe especificarse explicitamente\n",
        "* en Python el tipo de cada variable es inferido dinamicamente\n",
        "\n",
        "De este modo, en Python podemos asignar cualquier tipo de datos a cualquier variables:\n",
        "\n",
        "```python\n",
        "# codigo Python\n",
        "x = 4\n",
        "x = \"four\"\n",
        "```\n",
        "\n",
        "El equivalente en C sería como sigue, sin embargo, tendría errores de compilación o consecuencias inesperadas:\n",
        "\n",
        "```C\n",
        "/* codigo C */\n",
        "int x = 4;\n",
        "x = \"four\";  // ERROR\n",
        "```\n",
        "\n",
        "* Las variables en Python son más que sólo su valor\n",
        "* Contienen información extra sobre el tipo de valor, es decir el tipo de dato que representan."
      ]
    },
    {
      "cell_type": "markdown",
      "metadata": {
        "id": "EPLJap-DfaZM",
        "colab_type": "text"
      },
      "source": [
        "## Enteros en Python\n",
        "\n",
        "* La implementacion standard de Python está escrita en C.\n",
        "* Si  definimos un entero en Python, ``x = 10000``, ``x`` es un apuntador a una estructura de C:\n",
        "\n",
        "```C\n",
        "struct _longobject {\n",
        "    long ob_refcnt;\n",
        "    PyTypeObject *ob_type;\n",
        "    size_t ob_size;\n",
        "    long ob_digit[1];\n",
        "};\n",
        "```\n",
        "\n",
        "- Un entero en Python contiene cuatro partes:\n",
        "\n",
        " - ``ob_refcnt``, un contador que ayuda en la asignación y liberación de memoria\n",
        " - ``ob_type``, codifica el tipo de variable\n",
        " - ``ob_size``, especifica el tamaño\n",
        " - ``ob_digit``, contiene el valor asignado que representa la variable.\n",
        "\n",
        "* Esto causa un pequeño _overhead_ cuando se crea un entero en Python en comparación con C, como se ilustra a continuación:"
      ]
    },
    {
      "cell_type": "markdown",
      "metadata": {
        "id": "N-9hfay8faZN",
        "colab_type": "text"
      },
      "source": [
        "![Integer Memory Layout](https://github.com/Arquimides23/TallerPythonIntroCienciaDatos/blob/icd_fffuv/notebooks/figures/cint_vs_pyint.png?raw=1)"
      ]
    },
    {
      "cell_type": "markdown",
      "metadata": {
        "id": "7m-ZTEsmfaZO",
        "colab_type": "text"
      },
      "source": [
        "## Listas en Python \n",
        "\n",
        "Una lista es una estructura de datos que permite colectar objetos. \n",
        "Creamos una lista de enteros de la siguiente forma:"
      ]
    },
    {
      "cell_type": "code",
      "metadata": {
        "id": "gjV_DWpZfaZP",
        "colab_type": "code",
        "colab": {},
        "outputId": "651ed762-5b28-4f9d-bec7-ba1cda87ba9f"
      },
      "source": [
        "L = list(range(10))\n",
        "L"
      ],
      "execution_count": 0,
      "outputs": [
        {
          "output_type": "execute_result",
          "data": {
            "text/plain": [
              "[0, 1, 2, 3, 4, 5, 6, 7, 8, 9]"
            ]
          },
          "metadata": {
            "tags": []
          },
          "execution_count": 1
        }
      ]
    },
    {
      "cell_type": "code",
      "metadata": {
        "id": "yb2THR2sfaZU",
        "colab_type": "code",
        "colab": {},
        "outputId": "f7e487ba-024f-4fbe-850c-f0a9d8ded67b"
      },
      "source": [
        "type(L[0])"
      ],
      "execution_count": 0,
      "outputs": [
        {
          "output_type": "execute_result",
          "data": {
            "text/plain": [
              "int"
            ]
          },
          "metadata": {
            "tags": []
          },
          "execution_count": 2
        }
      ]
    },
    {
      "cell_type": "markdown",
      "metadata": {
        "id": "qV0S9Ub1faZW",
        "colab_type": "text"
      },
      "source": [
        "O una lista de caracteres de texto:"
      ]
    },
    {
      "cell_type": "code",
      "metadata": {
        "id": "1-Kd59yRfaZX",
        "colab_type": "code",
        "colab": {},
        "outputId": "6b31442e-0035-4be6-ed32-e8e6618976d5"
      },
      "source": [
        "L2 = [str(c) for c in L]\n",
        "L2"
      ],
      "execution_count": 0,
      "outputs": [
        {
          "output_type": "execute_result",
          "data": {
            "text/plain": [
              "['0', '1', '2', '3', '4', '5', '6', '7', '8', '9']"
            ]
          },
          "metadata": {
            "tags": []
          },
          "execution_count": 3
        }
      ]
    },
    {
      "cell_type": "code",
      "metadata": {
        "id": "op2pnaw_faZa",
        "colab_type": "code",
        "colab": {},
        "outputId": "e8165137-6f1c-4418-92ee-0e58076b70c9"
      },
      "source": [
        "type(L2[0])"
      ],
      "execution_count": 0,
      "outputs": [
        {
          "output_type": "execute_result",
          "data": {
            "text/plain": [
              "str"
            ]
          },
          "metadata": {
            "tags": []
          },
          "execution_count": 4
        }
      ]
    },
    {
      "cell_type": "markdown",
      "metadata": {
        "id": "Sjez-9MHfaZc",
        "colab_type": "text"
      },
      "source": [
        "Gracias al tipado dinámico podemos crear listas heterogéneas:"
      ]
    },
    {
      "cell_type": "code",
      "metadata": {
        "id": "sI6AF-utfaZc",
        "colab_type": "code",
        "colab": {},
        "outputId": "52a6b1e0-f2bd-4785-ac71-c46949907601"
      },
      "source": [
        "L3 = [True, \"2\", 3.0, 4]\n",
        "[type(item) for item in L3]"
      ],
      "execution_count": 0,
      "outputs": [
        {
          "output_type": "execute_result",
          "data": {
            "text/plain": [
              "[bool, str, float, int]"
            ]
          },
          "metadata": {
            "tags": []
          },
          "execution_count": 5
        }
      ]
    },
    {
      "cell_type": "markdown",
      "metadata": {
        "id": "_cteDPm5faZe",
        "colab_type": "text"
      },
      "source": [
        "- Esta felixibilidad tiene un costo pues cada elemento en la lista contiene es una referencia a una estructura que define el objeto de Python.\n",
        "- En el caso especial que todas las entradas son del mismo tipo habrá información redundante: - Sería mas eficiente usar un arreglo de tipo fijo\n",
        "- La diferencia entre listas dinámicas y de tipo fijo (como NumPy) se ilustra en la siguiente figura:"
      ]
    },
    {
      "cell_type": "markdown",
      "metadata": {
        "id": "kxs5sFIgfaZf",
        "colab_type": "text"
      },
      "source": [
        "![Array Memory Layout](https://github.com/Arquimides23/TallerPythonIntroCienciaDatos/blob/icd_fffuv/notebooks/figures/array_vs_list.png?raw=1)"
      ]
    },
    {
      "cell_type": "markdown",
      "metadata": {
        "id": "SC90gnipfaZg",
        "colab_type": "text"
      },
      "source": [
        "- El arreglo contiene un apuntador único a un bloque contiguo de datos\n",
        "- La lista contiene un apuntador a un bloque de apuntadores, cada uno apuntando a un objeto de Python (como el objeto entero que vimos antes)\n",
        "- La lista puede tener objetos y datos de cualquier tipo\n",
        "- El arreglo fijo no puede hacerlo, pero es mas eficiente para guardar y manipular los datos"
      ]
    },
    {
      "cell_type": "markdown",
      "metadata": {
        "id": "zvpTOd-SfaZh",
        "colab_type": "text"
      },
      "source": [
        "## Arreglos de Tipo Fijo en Python\n",
        "\n",
        "- En Python hay diferentes opciones para guardar datos en buffers de tipo fijo\n",
        "- El modulo interno ``array`` (disponible a partir de Python 3.3) sirve para crear arreglos densos de tipo uniforme:"
      ]
    },
    {
      "cell_type": "code",
      "metadata": {
        "id": "CczLIu4tfaZi",
        "colab_type": "code",
        "colab": {},
        "outputId": "835f99fa-0b17-4cdc-ff58-4387bd8daae7"
      },
      "source": [
        "import array\n",
        "L = list(range(10))\n",
        "A = array.array('i', L)\n",
        "A"
      ],
      "execution_count": 0,
      "outputs": [
        {
          "output_type": "execute_result",
          "data": {
            "text/plain": [
              "array('i', [0, 1, 2, 3, 4, 5, 6, 7, 8, 9])"
            ]
          },
          "metadata": {
            "tags": []
          },
          "execution_count": 3
        }
      ]
    },
    {
      "cell_type": "markdown",
      "metadata": {
        "id": "nb3OuPOSfaZk",
        "colab_type": "text"
      },
      "source": [
        "- Aquí ``'i'`` indica que las entradas son enteros.\n",
        "- El objeto ``ndarray`` de la libreria NumPy  es mucho mas útil ya que implementa operaciones sobre los datos contenidos.\n",
        "- Antes de explorar estas operaciones, veamos diversas maneras de crear arreglos de NumPy\n",
        "- Comenzamos con la manera standard de importar NumPy, usando el alias ``np``:"
      ]
    },
    {
      "cell_type": "code",
      "metadata": {
        "id": "RevybSeYfaZl",
        "colab_type": "code",
        "colab": {}
      },
      "source": [
        "import numpy as np"
      ],
      "execution_count": 0,
      "outputs": []
    },
    {
      "cell_type": "markdown",
      "metadata": {
        "id": "jYABgUqNfaZn",
        "colab_type": "text"
      },
      "source": [
        "## Crear Arreglos a partir de Listas de Python\n",
        "\n",
        "Podemos usar ``np.array`` para crear arreglos a partir de listas:"
      ]
    },
    {
      "cell_type": "code",
      "metadata": {
        "id": "g_ma1vC3faZn",
        "colab_type": "code",
        "colab": {},
        "outputId": "f5b0835f-d311-4ed8-d6c4-ec05d9eec916"
      },
      "source": [
        "# integer array:\n",
        "np.array([1, 4, 2, 5, 3])"
      ],
      "execution_count": 0,
      "outputs": [
        {
          "output_type": "execute_result",
          "data": {
            "text/plain": [
              "array([1, 4, 2, 5, 3])"
            ]
          },
          "metadata": {
            "tags": []
          },
          "execution_count": 8
        }
      ]
    },
    {
      "cell_type": "markdown",
      "metadata": {
        "id": "DedM0tflfaZp",
        "colab_type": "text"
      },
      "source": [
        "- A diferencia de las lista en Python, NumPy está restringif a arreglos que contienen el mismo tipo de datos\n",
        "- Si los tipos no coinciden NumPy trata de ajustar (*upcast*, emitir) si es posible\n",
        "- En el siguiente ejemplo, los enteros se emiten a punto flotante:"
      ]
    },
    {
      "cell_type": "code",
      "metadata": {
        "id": "F6Q9ZksgfaZq",
        "colab_type": "code",
        "colab": {},
        "outputId": "53db9336-94ad-4d91-fefc-1a9752afd4c4"
      },
      "source": [
        "np.array([3.14, 4, 2, 3])"
      ],
      "execution_count": 0,
      "outputs": [
        {
          "output_type": "execute_result",
          "data": {
            "text/plain": [
              "array([ 3.14,  4.  ,  2.  ,  3.  ])"
            ]
          },
          "metadata": {
            "tags": []
          },
          "execution_count": 9
        }
      ]
    },
    {
      "cell_type": "markdown",
      "metadata": {
        "id": "JUjjs9jafaZs",
        "colab_type": "text"
      },
      "source": [
        "- Podemos indicar el tipo de datos del arreglo explicitamente usando la palabra ``dtype``:"
      ]
    },
    {
      "cell_type": "code",
      "metadata": {
        "id": "prlg76CmfaZt",
        "colab_type": "code",
        "colab": {},
        "outputId": "01eefe17-8c88-4b21-9f30-ce5278a0abec"
      },
      "source": [
        "np.array([1, 2, 3, 4], dtype='float32')"
      ],
      "execution_count": 0,
      "outputs": [
        {
          "output_type": "execute_result",
          "data": {
            "text/plain": [
              "array([ 1.,  2.,  3.,  4.], dtype=float32)"
            ]
          },
          "metadata": {
            "tags": []
          },
          "execution_count": 10
        }
      ]
    },
    {
      "cell_type": "markdown",
      "metadata": {
        "id": "4za7AX96faZv",
        "colab_type": "text"
      },
      "source": [
        "- A diferencia de las listas, los arreglos de NumPy pueden ser explicitamente multi-dimensionales\n",
        "- A continuación, una forma de inicializar un arreglo multidimensional usando una lista de listas:"
      ]
    },
    {
      "cell_type": "code",
      "metadata": {
        "id": "CVrn-B4efaZv",
        "colab_type": "code",
        "colab": {},
        "outputId": "a082b3d7-7ee7-49ef-929c-b09fb4e2120d"
      },
      "source": [
        "# nested lists result in multi-dimensional arrays\n",
        "np.array([range(i, i + 3) for i in [2, 4, 6]])"
      ],
      "execution_count": 0,
      "outputs": [
        {
          "output_type": "execute_result",
          "data": {
            "text/plain": [
              "array([[2, 3, 4],\n",
              "       [4, 5, 6],\n",
              "       [6, 7, 8]])"
            ]
          },
          "metadata": {
            "tags": []
          },
          "execution_count": 11
        }
      ]
    },
    {
      "cell_type": "markdown",
      "metadata": {
        "id": "DpifGE1_faZ1",
        "colab_type": "text"
      },
      "source": [
        "- Las listas interiores se toman como renglones del arreglo bidimensional resultante"
      ]
    },
    {
      "cell_type": "markdown",
      "metadata": {
        "id": "YXrzXQN1faZ2",
        "colab_type": "text"
      },
      "source": [
        "## Creando Arreglos \n",
        "\n",
        "- Para arreglos grandes, es mas eficiente crearlos usando rutinas implementadas en NumPy:"
      ]
    },
    {
      "cell_type": "code",
      "metadata": {
        "id": "XsCHWc7pfaZ3",
        "colab_type": "code",
        "colab": {
          "base_uri": "https://localhost:8080/",
          "height": 34
        },
        "outputId": "84655285-2c24-4cdb-a960-17db48dac4c0"
      },
      "source": [
        "# Crea arreglo de enteros de longitud-10 lleno de ceros\n",
        "np.zeros(10, dtype=int)"
      ],
      "execution_count": 2,
      "outputs": [
        {
          "output_type": "execute_result",
          "data": {
            "text/plain": [
              "array([0, 0, 0, 0, 0, 0, 0, 0, 0, 0])"
            ]
          },
          "metadata": {
            "tags": []
          },
          "execution_count": 2
        }
      ]
    },
    {
      "cell_type": "code",
      "metadata": {
        "id": "q8yQc95dfaZ5",
        "colab_type": "code",
        "colab": {
          "base_uri": "https://localhost:8080/",
          "height": 67
        },
        "outputId": "11a2e317-41f4-41c4-cdd7-0c84595bbdad"
      },
      "source": [
        "# Crea arreglo con puntos flotantes de dimensiones 3x5 (3 renglones, 5 columnas) lleno de unos\n",
        "np.ones((3, 5), dtype=float)"
      ],
      "execution_count": 3,
      "outputs": [
        {
          "output_type": "execute_result",
          "data": {
            "text/plain": [
              "array([[1., 1., 1., 1., 1.],\n",
              "       [1., 1., 1., 1., 1.],\n",
              "       [1., 1., 1., 1., 1.]])"
            ]
          },
          "metadata": {
            "tags": []
          },
          "execution_count": 3
        }
      ]
    },
    {
      "cell_type": "code",
      "metadata": {
        "id": "ugriZtHVfaZ7",
        "colab_type": "code",
        "colab": {
          "base_uri": "https://localhost:8080/",
          "height": 67
        },
        "outputId": "c24ba02d-13be-4f72-a033-f44170b3d6e8"
      },
      "source": [
        "# Crea arreglo de 3x5 array lleno de 3.14\n",
        "np.full((3, 5), 3.14)"
      ],
      "execution_count": 4,
      "outputs": [
        {
          "output_type": "execute_result",
          "data": {
            "text/plain": [
              "array([[3.14, 3.14, 3.14, 3.14, 3.14],\n",
              "       [3.14, 3.14, 3.14, 3.14, 3.14],\n",
              "       [3.14, 3.14, 3.14, 3.14, 3.14]])"
            ]
          },
          "metadata": {
            "tags": []
          },
          "execution_count": 4
        }
      ]
    },
    {
      "cell_type": "code",
      "metadata": {
        "id": "OF47gYsvfaZ9",
        "colab_type": "code",
        "colab": {
          "base_uri": "https://localhost:8080/",
          "height": 34
        },
        "outputId": "3b57bb5b-1a62-4413-bc54-fede922d8bc7"
      },
      "source": [
        "# Crea arreglo lleno con una secuencia lineal de numeros\n",
        "# Empieza en 0, acaba en 20, en pasos de 2\n",
        "# (similar a la funcion interna range())\n",
        "np.arange(0, 20, 2)"
      ],
      "execution_count": 5,
      "outputs": [
        {
          "output_type": "execute_result",
          "data": {
            "text/plain": [
              "array([ 0,  2,  4,  6,  8, 10, 12, 14, 16, 18])"
            ]
          },
          "metadata": {
            "tags": []
          },
          "execution_count": 5
        }
      ]
    },
    {
      "cell_type": "code",
      "metadata": {
        "id": "KabCMy_UfaaA",
        "colab_type": "code",
        "colab": {
          "base_uri": "https://localhost:8080/",
          "height": 34
        },
        "outputId": "b27c0458-7caa-4883-91e2-2058522b9517"
      },
      "source": [
        "# Crea array de cinco valores igualmente espaciados entre 0 y 1\n",
        "np.linspace(0, 1, 5)"
      ],
      "execution_count": 6,
      "outputs": [
        {
          "output_type": "execute_result",
          "data": {
            "text/plain": [
              "array([0.  , 0.25, 0.5 , 0.75, 1.  ])"
            ]
          },
          "metadata": {
            "tags": []
          },
          "execution_count": 6
        }
      ]
    },
    {
      "cell_type": "code",
      "metadata": {
        "id": "HS_EnVWvfaaD",
        "colab_type": "code",
        "colab": {
          "base_uri": "https://localhost:8080/",
          "height": 67
        },
        "outputId": "30315e89-7464-4627-e7a7-e7165641aee4"
      },
      "source": [
        "# Crea un arreglo de 3x3 con valores aleatorios\n",
        "# distribuidos de manera uniforma entre 0 y 1\n",
        "np.random.random((3, 3))"
      ],
      "execution_count": 7,
      "outputs": [
        {
          "output_type": "execute_result",
          "data": {
            "text/plain": [
              "array([[0.95076284, 0.54482508, 0.58582926],\n",
              "       [0.66868456, 0.51212868, 0.38448196],\n",
              "       [0.74769136, 0.42250627, 0.28098831]])"
            ]
          },
          "metadata": {
            "tags": []
          },
          "execution_count": 7
        }
      ]
    },
    {
      "cell_type": "code",
      "metadata": {
        "id": "H4rtb6PVfaaF",
        "colab_type": "code",
        "colab": {
          "base_uri": "https://localhost:8080/",
          "height": 67
        },
        "outputId": "a5f82a73-f1d1-4091-8fe9-827cba05475f"
      },
      "source": [
        "# Crea un arreglo de 3x3 con valores aleatorios\n",
        "# distribuidos de manera normal con media 0 y desviacion estandard 1\n",
        "np.random.normal(0, 1, (3, 3))"
      ],
      "execution_count": 8,
      "outputs": [
        {
          "output_type": "execute_result",
          "data": {
            "text/plain": [
              "array([[-0.27885779, -1.19230548,  1.07297697],\n",
              "       [ 1.02101533, -2.66715568,  0.25769292],\n",
              "       [ 1.5425564 , -1.03496608, -0.58924597]])"
            ]
          },
          "metadata": {
            "tags": []
          },
          "execution_count": 8
        }
      ]
    },
    {
      "cell_type": "code",
      "metadata": {
        "id": "b18_bCmwfaaH",
        "colab_type": "code",
        "colab": {
          "base_uri": "https://localhost:8080/",
          "height": 67
        },
        "outputId": "578a9575-0a7a-4244-9f03-90e6767838a9"
      },
      "source": [
        "# Crea array de 3x3 de numeros enterros aleatorios tomados del intervalo [0, 10)\n",
        "np.random.randint(0, 10, (3, 3))"
      ],
      "execution_count": 9,
      "outputs": [
        {
          "output_type": "execute_result",
          "data": {
            "text/plain": [
              "array([[0, 4, 3],\n",
              "       [8, 6, 7],\n",
              "       [8, 2, 9]])"
            ]
          },
          "metadata": {
            "tags": []
          },
          "execution_count": 9
        }
      ]
    },
    {
      "cell_type": "code",
      "metadata": {
        "id": "sms-6WKkfaaJ",
        "colab_type": "code",
        "colab": {
          "base_uri": "https://localhost:8080/",
          "height": 67
        },
        "outputId": "462a974b-1810-4a71-d739-d04d0353130d"
      },
      "source": [
        "# Crea matrix identidad de 3x3 (arreglo cuyas entradas son todas cero excepto las diagonales)\n",
        "np.eye(3)"
      ],
      "execution_count": 10,
      "outputs": [
        {
          "output_type": "execute_result",
          "data": {
            "text/plain": [
              "array([[1., 0., 0.],\n",
              "       [0., 1., 0.],\n",
              "       [0., 0., 1.]])"
            ]
          },
          "metadata": {
            "tags": []
          },
          "execution_count": 10
        }
      ]
    },
    {
      "cell_type": "code",
      "metadata": {
        "id": "KTkJk2k3faaL",
        "colab_type": "code",
        "colab": {
          "base_uri": "https://localhost:8080/",
          "height": 34
        },
        "outputId": "ac40bb17-6d15-4025-a21c-de31b8352876"
      },
      "source": [
        "# Crea un array de tres enteros sin valores especificos\n",
        "# Los valores se toman de lo que exista en esa localizacion de la memoria\n",
        "np.empty(3)"
      ],
      "execution_count": 11,
      "outputs": [
        {
          "output_type": "execute_result",
          "data": {
            "text/plain": [
              "array([1., 1., 1.])"
            ]
          },
          "metadata": {
            "tags": []
          },
          "execution_count": 11
        }
      ]
    },
    {
      "cell_type": "markdown",
      "metadata": {
        "id": "eaayTmxLfaaN",
        "colab_type": "text"
      },
      "source": [
        "## Tipos de Datos Standard de NumPy \n",
        "\n",
        "- Los arrays de NumPy contienen valores de un solo tipo, veamos cuales pueden ser\n",
        "- NumPy está implementado en C, de modo que los tipos son similares a los usados en C, Fortran, y otros lenguajes relacionados\n",
        "- La siguiente tabla enlista los tipos de datos standard de NumPy \n",
        "- Cuando construyen un array se puede especificar el tipo usando texto:\n",
        "\n",
        "```python\n",
        "np.zeros(10, dtype='int16')\n",
        "```\n",
        "\n",
        "- O usando el objeto de NumPy asociado:\n",
        "\n",
        "```python\n",
        "np.zeros(10, dtype=np.int16)\n",
        "```"
      ]
    },
    {
      "cell_type": "markdown",
      "metadata": {
        "id": "nH8Bn_lBfaaO",
        "colab_type": "text"
      },
      "source": [
        "| Data type\t    | Description |\n",
        "|---------------|-------------|\n",
        "| ``bool_``     | Boolean (True or False) stored as a byte |\n",
        "| ``int_``      | Default integer type (same as C ``long``; normally either ``int64`` or ``int32``)| \n",
        "| ``intc``      | Identical to C ``int`` (normally ``int32`` or ``int64``)| \n",
        "| ``intp``      | Integer used for indexing (same as C ``ssize_t``; normally either ``int32`` or ``int64``)| \n",
        "| ``int8``      | Byte (-128 to 127)| \n",
        "| ``int16``     | Integer (-32768 to 32767)|\n",
        "| ``int32``     | Integer (-2147483648 to 2147483647)|\n",
        "| ``int64``     | Integer (-9223372036854775808 to 9223372036854775807)| \n",
        "| ``uint8``     | Unsigned integer (0 to 255)| \n",
        "| ``uint16``    | Unsigned integer (0 to 65535)| \n",
        "| ``uint32``    | Unsigned integer (0 to 4294967295)| \n",
        "| ``uint64``    | Unsigned integer (0 to 18446744073709551615)| \n",
        "| ``float_``    | Shorthand for ``float64``.| \n",
        "| ``float16``   | Half precision float: sign bit, 5 bits exponent, 10 bits mantissa| \n",
        "| ``float32``   | Single precision float: sign bit, 8 bits exponent, 23 bits mantissa| \n",
        "| ``float64``   | Double precision float: sign bit, 11 bits exponent, 52 bits mantissa| \n",
        "| ``complex_``  | Shorthand for ``complex128``.| \n",
        "| ``complex64`` | Complex number, represented by two 32-bit floats| \n",
        "| ``complex128``| Complex number, represented by two 64-bit floats| "
      ]
    },
    {
      "cell_type": "markdown",
      "metadata": {
        "id": "qCwhBNInfaaO",
        "colab_type": "text"
      },
      "source": [
        "- Existen tipos mas avanzados; para mas información se refiere a la [documentacion de NumPy](http://numpy.org/)."
      ]
    },
    {
      "cell_type": "markdown",
      "metadata": {
        "id": "Jvkh9Iy2faaP",
        "colab_type": "text"
      },
      "source": [
        "<!--NAVIGATION-->\n",
        "< [Introducción a NumPy](01.00-Introduction-to-NumPy.ipynb) | [Contenido](Index.ipynb) | [Basicos de NumPy: arreglos](01.02-The-Basics-Of-NumPy-Arrays.ipynb) >\n",
        "\n",
        "<a href=\"https://colab.research.google.com/github/htapia/TallerPythonIntroCienciaDatos/blob/master/notebooks/01.01-Understanding-Data-Types.ipynb\"><img align=\"left\" src=\"https://colab.research.google.com/assets/colab-badge.svg\" alt=\"Open in Colab\" title=\"Open and Execute in Google Colaboratory\"></a>\n"
      ]
    }
  ]
}