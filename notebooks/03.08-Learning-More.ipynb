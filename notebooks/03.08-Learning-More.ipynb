{
 "cells": [
  {
   "cell_type": "markdown",
   "metadata": {},
   "source": [
    "<!--BOOK_INFORMATION-->\n",
    "<img align=\"left\" style=\"padding-right:10px;\" src=\"figures/header_small.png\">\n",
    "\n",
    "*Esta libreta contiene material del Taller de Python que se lleva a cabo como parte del \n",
    "evento [Data Challenge Industrial 4.0](www.lania.mx/dci). El contenido ha sido adaptado \n",
    "por HTM y GED a partir del libro [Python Data Science Handbook](http://shop.oreilly.com/product/0636920034919.do) \n",
    "de Jake VanderPlas y se mantiene la licencia sobre el texto, \n",
    "[CC-BY-NC-ND license](https://creativecommons.org/licenses/by-nc-nd/3.0/us/legalcode), \n",
    "y sobre el codigo [MIT license](https://opensource.org/licenses/MIT).*"
   ]
  },
  {
   "cell_type": "markdown",
   "metadata": {},
   "source": [
    "<!--NAVIGATION-->\n",
    "< [Aplicacion: DCI](03.07-Image-Features.ipynb) | [Contenido](Index.ipynb) |\n",
    "\n",
    "<a href=\"https://colab.research.google.com/github/htapia/TallerPythonIntroCienciaDatos/blob/master/notebooks/03.08-Learning-More.ipynb\"><img align=\"left\" src=\"https://colab.research.google.com/assets/colab-badge.svg\" alt=\"Open in Colab\" title=\"Open and Execute in Google Colaboratory\"></a>\n"
   ]
  },
  {
   "cell_type": "markdown",
   "metadata": {},
   "source": [
    "# Recursos adicionales Machine Learning"
   ]
  },
  {
   "cell_type": "markdown",
   "metadata": {},
   "source": [
    "## Machine Learning en Python\n",
    "\n",
    "\n",
    "- [El sitio web de Scikit-Learn] (http://scikit-learn.org): El sitio web de Scikit-Learn tiene una impresionante variedad de documentación y ejemplos que cubren algunos de los modelos discutidos aquí, y mucho, mucho más. Si desea una breve encuesta de los algoritmos de aprendizaje automático más importantes y de uso frecuente, este sitio web es un buen lugar para comenzar.\n",
    "\n",
    "- * Videos tutoriales de SciPy, PyCon y PyData *: Scikit-Learn y otros temas de aprendizaje automático son los favoritos perennes en las pistas de tutoriales de muchas series de conferencias centradas en Python, en particular las conferencias PyCon, SciPy y PyData. Puede encontrar los más recientes a través de una simple búsqueda en la web.\n",
    "\n",
    "- [* Introducción al aprendizaje automático con Python *] (http://shop.oreilly.com/product/0636920030515.do): escrito por Andreas C. Mueller y Sarah Guido, este libro incluye un tratamiento más completo de los temas de este capítulo. Si está interesado en revisar los fundamentos del aprendizaje automático y llevar el kit de herramientas Scikit-Learn a sus límites, este es un gran recurso, escrito por uno de los desarrolladores más prolíficos del equipo Scikit-Learn.\n",
    "\n",
    "- [* Python Machine Learning *] (https://www.packtpub.com/big-data-and-business-intelligence/python-machine-learning): el libro de Sebastian Raschka se centra menos en Scikit-learn y más en La variedad de herramientas de aprendizaje automático disponibles en Python. En particular, hay una discusión muy útil sobre cómo escalar enfoques de aprendizaje automático basados ​​en Python para conjuntos de datos grandes y complejos."
   ]
  },
  {
   "cell_type": "markdown",
   "metadata": {},
   "source": [
    "## Machine Learning en general\n",
    "\n",
    "- [*Machine Learning*](https://www.coursera.org/learn/machine-learning): Taught by Andrew Ng (Coursera), this is a very clearly-taught free online course which covers the basics of machine learning from an algorithmic perspective. It assumes undergraduate-level understanding of mathematics and programming, and steps through detailed considerations of some of the most important machine learning algorithms. Homework assignments, which are algorithmically graded, have you actually implement some of these models yourself.\n",
    "\n",
    "- [*Pattern Recognition and Machine Learning*](http://www.springer.com/us/book/9780387310732): Written by Christopher Bishop, this classic technical text covers the concepts of machine learning discussed in this chapter in detail. If you plan to go further in this subject, you should have this book on your shelf.\n",
    "\n",
    "- [*Machine Learning: a Probabilistic Perspective*](https://mitpress.mit.edu/books/machine-learning-0): Written by Kevin Murphy, this is an excellent graduate-level text that explores nearly all important machine learning algorithms from a ground-up, unified probabilistic perspective.\n",
    "\n",
    "These resources are more technical than the material presented in this book, but to really understand the fundamentals of these methods requires a deep dive into the mathematics behind them.\n",
    "If you're up for the challenge and ready to bring your data science to the next level, don't hesitate to dive-in!"
   ]
  },
  {
   "cell_type": "markdown",
   "metadata": {},
   "source": [
    "<!--NAVIGATION-->\n",
    "< [Aplicacion: DCI](03.07-Image-Features.ipynb) | [Contenido](Index.ipynb) |\n",
    "\n",
    "<a href=\"https://colab.research.google.com/github/htapia/TallerPythonIntroCienciaDatos/blob/master/notebooks/03.08-Learning-More.ipynb\"><img align=\"left\" src=\"https://colab.research.google.com/assets/colab-badge.svg\" alt=\"Open in Colab\" title=\"Open and Execute in Google Colaboratory\"></a>\n"
   ]
  }
 ],
 "metadata": {
  "anaconda-cloud": {},
  "kernelspec": {
   "display_name": "Python 3",
   "language": "python",
   "name": "python3"
  },
  "language_info": {
   "codemirror_mode": {
    "name": "ipython",
    "version": 3
   },
   "file_extension": ".py",
   "mimetype": "text/x-python",
   "name": "python",
   "nbconvert_exporter": "python",
   "pygments_lexer": "ipython3",
   "version": "3.7.4"
  }
 },
 "nbformat": 4,
 "nbformat_minor": 1
}
