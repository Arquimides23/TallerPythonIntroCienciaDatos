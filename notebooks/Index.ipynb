{
  "nbformat": 4,
  "nbformat_minor": 0,
  "metadata": {
    "anaconda-cloud": {},
    "kernelspec": {
      "display_name": "Python 3",
      "language": "python",
      "name": "python3"
    },
    "language_info": {
      "codemirror_mode": {
        "name": "ipython",
        "version": 3
      },
      "file_extension": ".py",
      "mimetype": "text/x-python",
      "name": "python",
      "nbconvert_exporter": "python",
      "pygments_lexer": "ipython3",
      "version": "3.5.1"
    },
    "colab": {
      "name": "Index.ipynb",
      "provenance": [],
      "include_colab_link": true
    }
  },
  "cells": [
    {
      "cell_type": "markdown",
      "metadata": {
        "id": "view-in-github",
        "colab_type": "text"
      },
      "source": [
        "<a href=\"https://colab.research.google.com/github/htapia/TallerPythonIntroCienciaDatos/blob/master/notebooks/Index.ipynb\" target=\"_parent\"><img src=\"https://colab.research.google.com/assets/colab-badge.svg\" alt=\"Open In Colab\"/></a>"
      ]
    },
    {
      "cell_type": "markdown",
      "metadata": {
        "id": "tBlFttIbtfbw",
        "colab_type": "text"
      },
      "source": [
        "# Taller de Python Data Challenge Industrial\n",
        "Basado en el libro Python Data Science Handbook por *Jake VanderPlas*\n",
        "\n",
        "<!-- ![Book Cover](figures/PDSH-cover.png) -->"
      ]
    },
    {
      "cell_type": "markdown",
      "metadata": {
        "id": "s_ljDhXitfb5",
        "colab_type": "text"
      },
      "source": [
        "Las siguientes libretas de Jupyter contienen el material para el Taller de Python del evento [Data Challenge Industrial 4.0](www.lania.mx/dci). El material está basado en el libro [Python Data Science Handbook](http://shop.oreilly.com/product/0636920034919.do) de Jake VanderPlas; el contenido original está disponible [en GitHub](https://github.com/jakevdp/PythonDataScienceHandbook).\n"
      ]
    },
    {
      "cell_type": "markdown",
      "metadata": {
        "id": "cXsDhlTDtfb7",
        "colab_type": "text"
      },
      "source": [
        "## Contenido\n",
        "\n",
        "\n",
        "Tema | Dia | Horario\n",
        "--- | --- | ---\n",
        "Introduccion a NumPy | 10/26 | 9:00 - 10:30\n",
        "Manipulacion de datos con Pandas | 10/26 | 10:30 - 12:00\n",
        "Manipulacion de datos con Pandas | 11/26 | 8:30 - 10:00\n",
        "Aprendizaje Automatico | 11/26 | 8:30 - 11:30\n",
        "\n",
        "\n",
        "### [Prefacio](00.00-Preface.ipynb)\n",
        "<!--\n",
        "### [1. IPython: Beyond Normal Python](01.00-IPython-Beyond-Normal-Python.ipynb)\n",
        "- [Help and Documentation in IPython](01.01-Help-And-Documentation.ipynb)\n",
        "- [Keyboard Shortcuts in the IPython Shell](01.02-Shell-Keyboard-Shortcuts.ipynb)\n",
        "- [IPython Magic Commands](01.03-Magic-Commands.ipynb)\n",
        "- [Input and Output History](01.04-Input-Output-History.ipynb)\n",
        "- [IPython and Shell Commands](01.05-IPython-And-Shell-Commands.ipynb)\n",
        "- [Errors and Debugging](01.06-Errors-and-Debugging.ipynb)\n",
        "- [Profiling and Timing Code](01.07-Timing-and-Profiling.ipynb)\n",
        "- [More IPython Resources](01.08-More-IPython-Resources.ipynb)\n",
        "-->\n",
        "\n",
        "### [1. Introduccion a NumPy](02.00-Introduction-to-NumPy.ipynb) 10/26/19: \n",
        "<!-- - [Understanding Data Types in Python](02.01-Understanding-Data-Types.ipynb) -->\n",
        "- [Basicos de NumPy: arreglos](02.02-The-Basics-Of-NumPy-Arrays.ipynb)\n",
        "- [Calculos sobre arreglos de NumPy 1](02.03-Computation-on-arrays-ufuncs.ipynb)\n",
        "- [Agregaciones: Min, Max, etc.](02.04-Computation-on-arrays-aggregates.ipynb)\n",
        "- [Caclulos sobre arreglos: *Broadcasting*](02.05-Computation-on-arrays-broadcasting.ipynb)\n",
        "- [Comparaciones, mascaras y logica booleana](02.06-Boolean-Arrays-and-Masks.ipynb)\n",
        "- [Indices](02.07-Fancy-Indexing.ipynb)\n",
        "<!-- - [Sorting Arrays](02.08-Sorting.ipynb) -->\n",
        "- [Structured Data: NumPy's Structured Arrays](02.09-Structured-Data-NumPy.ipynb)\n",
        "\n",
        "### [2. Manipulacion de datos con Pandas](03.00-Introduction-to-Pandas.ipynb)\n",
        "- [Introduccion a los objetos de Pandas](03.01-Introducing-Pandas-Objects.ipynb)\n",
        "- [Indices y seleccion de datos](03.02-Data-Indexing-and-Selection.ipynb)\n",
        "- [Operaciones sobre datos con Pandas](03.03-Operations-in-Pandas.ipynb)\n",
        "- [Datos faltantes](03.04-Missing-Values.ipynb)\n",
        "<!-- - [Hierarchical Indexing](03.05-Hierarchical-Indexing.ipynb) -->\n",
        "- [Concatenacion and Anexion de datos](03.06-Concat-And-Append.ipynb)\n",
        "- [Union de datos: *Merge* y *Join*](03.07-Merge-and-Join.ipynb)\n",
        "- [Agregaciones y agrupaciones](03.08-Aggregation-and-Grouping.ipynb)\n",
        "<!-- - [Pivot Tables](03.09-Pivot-Tables.ipynb) -->\n",
        "- [Operaciones sobre texto](03.10-Working-With-Strings.ipynb)\n",
        "- [Series de tiempo](03.11-Working-with-Time-Series.ipynb)\n",
        "<!-- - [High-Performance Pandas: eval() and query()](03.12-Performance-Eval-and-Query.ipynb) -->\n",
        "<!-- - [Further Resources](03.13-Further-Resources.ipynb) -->\n",
        "\n",
        "<!-- ### [4. Visualization with Matplotlib](04.00-Introduction-To-Matplotlib.ipynb)\n",
        "- [Simple Line Plots](04.01-Simple-Line-Plots.ipynb)\n",
        "- [Simple Scatter Plots](04.02-Simple-Scatter-Plots.ipynb)\n",
        "- [Visualizing Errors](04.03-Errorbars.ipynb)\n",
        "- [Density and Contour Plots](04.04-Density-and-Contour-Plots.ipynb)\n",
        "- [Histograms, Binnings, and Density](04.05-Histograms-and-Binnings.ipynb)\n",
        "- [Customizing Plot Legends](04.06-Customizing-Legends.ipynb)\n",
        "- [Customizing Colorbars](04.07-Customizing-Colorbars.ipynb)\n",
        "- [Multiple Subplots](04.08-Multiple-Subplots.ipynb)\n",
        "- [Text and Annotation](04.09-Text-and-Annotation.ipynb)\n",
        "- [Customizing Ticks](04.10-Customizing-Ticks.ipynb)\n",
        "- [Customizing Matplotlib: Configurations and Stylesheets](04.11-Settings-and-Stylesheets.ipynb)\n",
        "- [Three-Dimensional Plotting in Matplotlib](04.12-Three-Dimensional-Plotting.ipynb)\n",
        "- [Geographic Data with Basemap](04.13-Geographic-Data-With-Basemap.ipynb)\n",
        "- [Visualization with Seaborn](04.14-Visualization-With-Seaborn.ipynb)\n",
        "- [Further Resources](04.15-Further-Resources.ipynb) -->\n",
        "\n",
        "### [3. Aprendizaje Automatico](05.00-Machine-Learning.ipynb)\n",
        "- [Que es el aprendizaje automatico](05.01-What-Is-Machine-Learning.ipynb)\n",
        "- [Introducion a Scikit-Learn](05.02-Introducing-Scikit-Learn.ipynb)\n",
        "- [Hyperparametros y validacion de modelos](05.03-Hyperparameters-and-Model-Validation.ipynb)\n",
        "- [Ingenieria de atributos](05.04-Feature-Engineering.ipynb)\n",
        "- [Clasificacion por Naive Bayes](05.05-Naive-Bayes.ipynb)\n",
        "- [Regresion Lineal](05.06-Linear-Regression.ipynb)\n",
        "<!-- - [In-Depth: Support Vector Machines](05.07-Support-Vector-Machines.ipynb) -->\n",
        "<!-- - [In-Depth: Decision Trees and Random Forests](05.08-Random-Forests.ipynb) -->\n",
        "<!-- - [In Depth: Principal Component Analysis](05.09-Principal-Component-Analysis.ipynb) -->\n",
        "<!-- - [In-Depth: Manifold Learning](05.10-Manifold-Learning.ipynb) -->\n",
        "<!-- - [In Depth: k-Means Clustering](05.11-K-Means.ipynb) -->\n",
        "<!-- - [In Depth: Gaussian Mixture Models](05.12-Gaussian-Mixtures.ipynb) -->\n",
        "<!-- - [In-Depth: Kernel Density Estimation](05.13-Kernel-Density-Estimation.ipynb) -->\n",
        "<!-- - [Aplicacion: *Pipeline* de datos industriales](05.14-Image-Features.ipynb) -->\n",
        "<!-- - [Further Machine Learning Resources](05.15-Learning-More.ipynb) -->\n",
        "\n",
        "<!-- ### [Appendix: Figure Code](06.00-Figure-Code.ipynb) -->"
      ]
    }
  ]
}